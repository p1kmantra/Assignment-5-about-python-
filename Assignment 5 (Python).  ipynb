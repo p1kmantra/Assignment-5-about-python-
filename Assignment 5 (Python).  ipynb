{
 "cells": [
  {
   "cell_type": "markdown",
   "id": "562df6e2-6434-4cb6-a205-e8218fa88ba4",
   "metadata": {},
   "source": [
    "Q.1.Who developed Python programing language ? "
   ]
  },
  {
   "cell_type": "markdown",
   "id": "1bd455de-886e-4769-bf53-d753b4731784",
   "metadata": {},
   "source": [
    "Ans. Python programing language was developed by 'Guido van Rossum'"
   ]
  },
  {
   "cell_type": "markdown",
   "id": "7481921e-1fe6-4f52-9984-0c7948659fa4",
   "metadata": {},
   "source": [
    "Q.2. Which type of programming does Python support ?"
   ]
  },
  {
   "cell_type": "markdown",
   "id": "4db2150d-2ec6-4cea-9bff-b6cef9ce4684",
   "metadata": {},
   "source": [
    "Ans. Imperative, functional and object-oriented programming are supported by Python."
   ]
  },
  {
   "cell_type": "markdown",
   "id": "996171bd-2b03-4854-8185-459a6528f4b3",
   "metadata": {},
   "source": [
    "Q.3. Is python case sensitive when dealing with identifiers ?"
   ]
  },
  {
   "cell_type": "markdown",
   "id": "1bb6dab4-9cf4-4427-af56-b71d95161648",
   "metadata": {},
   "source": [
    "Yes ,Python is case sensitive when dealing with indentifiers .This means that identifiers with differnt capitalizatiion are considered to be different names .\n",
    "eg---"
   ]
  },
  {
   "cell_type": "code",
   "execution_count": 1,
   "id": "5c6729a1-c50a-4950-a4b1-de59c47d53ab",
   "metadata": {},
   "outputs": [],
   "source": [
    "number=10"
   ]
  },
  {
   "cell_type": "code",
   "execution_count": 2,
   "id": "1126f95c-d677-432e-a25a-87a0b9b69a0b",
   "metadata": {},
   "outputs": [],
   "source": [
    "Number=20"
   ]
  },
  {
   "cell_type": "code",
   "execution_count": 3,
   "id": "77a4d99f-3264-401a-8180-40e312e3b255",
   "metadata": {},
   "outputs": [
    {
     "name": "stdout",
     "output_type": "stream",
     "text": [
      "10\n"
     ]
    }
   ],
   "source": [
    "print(number)"
   ]
  },
  {
   "cell_type": "code",
   "execution_count": 4,
   "id": "39cf0ff6-8da9-448d-a777-6917baf13198",
   "metadata": {},
   "outputs": [
    {
     "name": "stdout",
     "output_type": "stream",
     "text": [
      "20\n"
     ]
    }
   ],
   "source": [
    "print(Number)"
   ]
  },
  {
   "cell_type": "markdown",
   "id": "e7acb5ec-3655-4982-ad39-07b43243edc9",
   "metadata": {},
   "source": [
    "these are considered as two different identifiers and therefore two differnt variables are created \n",
    "with different values assigned to them"
   ]
  },
  {
   "cell_type": "markdown",
   "id": "ad962e0a-86af-44d9-a768-1a0b193b4b79",
   "metadata": {},
   "source": [
    "Q.4. What is the currect extension of Python file ?"
   ]
  },
  {
   "cell_type": "markdown",
   "id": "35b99adf-73b9-4bfe-9f86-3758f842bf84",
   "metadata": {},
   "source": [
    "Ans. The currect extension for Python file is \".py\"."
   ]
  },
  {
   "cell_type": "markdown",
   "id": "e2e75342-2182-4cb3-89ac-76ea66e63e87",
   "metadata": {},
   "source": [
    "Ans. If we have a python script with name \"pwskills_world\", we can also named \"pwskills_world.py\".\n",
    "This extension helps identify the file as a Python script and allows the operating system to associate it with the apropriate programm. "
   ]
  },
  {
   "cell_type": "markdown",
   "id": "a4637e44-7392-473b-8be8-a07f62c60bab",
   "metadata": {},
   "source": [
    "Q.5. Is Python code compiled or interpreted ?"
   ]
  },
  {
   "cell_type": "markdown",
   "id": "315ff090-7406-4892-9c1f-70b831e0e194",
   "metadata": {},
   "source": [
    "Ans. Python code is interpreted which means that the code is executed line by line the python interp\n",
    "rets .When a python script is executed ,the interpreter reads the code ,parses it ,and then executes it.This process hapens in real time without the need to first compile the entire program into an executable file."
   ]
  },
  {
   "cell_type": "markdown",
   "id": "434dab12-5eca-4426-b13c-fdffbc3b0195",
   "metadata": {},
   "source": [
    "Q.6. Name a few blocks of code used to define in python language."
   ]
  },
  {
   "cell_type": "markdown",
   "id": "132d823f-d7e0-422b-8a40-3a76e25579d4",
   "metadata": {},
   "source": [
    "Ans. In python ,code blocks are defined using indentation .Indentation is used to group statements \n",
    "together to form a block of code  "
   ]
  },
  {
   "cell_type": "markdown",
   "id": "b5247cd6-b3cd-4d7d-9c2c-e9436327eed8",
   "metadata": {},
   "source": [
    "a).\"def keyword followed by the function parameters enclosed in parentheses "
   ]
  },
  {
   "cell_type": "code",
   "execution_count": 5,
   "id": "90318179-8975-46a9-8ffa-b279b6281461",
   "metadata": {},
   "outputs": [],
   "source": [
    "def test (a,b):\n",
    "    sum=a+b\n",
    "    return sum"
   ]
  },
  {
   "cell_type": "code",
   "execution_count": 7,
   "id": "5f026283-02e5-4c56-bb7e-2aebcf347846",
   "metadata": {},
   "outputs": [
    {
     "data": {
      "text/plain": [
       "77"
      ]
     },
     "execution_count": 7,
     "metadata": {},
     "output_type": "execute_result"
    }
   ],
   "source": [
    "test(32,45)"
   ]
  },
  {
   "cell_type": "markdown",
   "id": "d036ddc7-55c6-46c5-a39e-d0e994c9ac3e",
   "metadata": {},
   "source": [
    "b). condition block 'if' key word followed by the condition in parentheses.The code block that is exicuted if the condition is true is intented"
   ]
  },
  {
   "cell_type": "code",
   "execution_count": 9,
   "id": "96f237b2-e052-4505-ad1b-6d71d1fdba85",
   "metadata": {},
   "outputs": [
    {
     "name": "stdout",
     "output_type": "stream",
     "text": [
      "you are eligible\n"
     ]
    }
   ],
   "source": [
    "age =28\n",
    "if age >=18:\n",
    "    print(\"you are eligible\")"
   ]
  },
  {
   "cell_type": "markdown",
   "id": "ab188a20-430e-4204-9500-5d710d28d0ab",
   "metadata": {},
   "source": [
    "c). loop block: there are two types of loops in python 'for' and 'while' loop .In both cases ,the code block that is executed in each iteration is intended "
   ]
  },
  {
   "cell_type": "code",
   "execution_count": 11,
   "id": "04f1bd2d-1fa6-493c-ab42-72630ee6ac05",
   "metadata": {},
   "outputs": [
    {
     "name": "stdout",
     "output_type": "stream",
     "text": [
      "0\n",
      "1\n",
      "2\n",
      "3\n",
      "4\n",
      "5\n",
      "6\n",
      "7\n",
      "8\n",
      "9\n"
     ]
    }
   ],
   "source": [
    "for i in range(10):\n",
    "    print (i)"
   ]
  },
  {
   "cell_type": "code",
   "execution_count": 16,
   "id": "f3685fa2-12b2-45fd-83bf-070cc1fc856b",
   "metadata": {},
   "outputs": [
    {
     "name": "stdout",
     "output_type": "stream",
     "text": [
      "1\n",
      "2\n",
      "3\n",
      "4\n",
      "5\n",
      "6\n",
      "7\n",
      "8\n",
      "9\n",
      "10\n"
     ]
    }
   ],
   "source": [
    "i=0\n",
    "while i <10:\n",
    "    i=i+1\n",
    "    print (i)"
   ]
  },
  {
   "cell_type": "markdown",
   "id": "7566d72e-21b8-4365-821f-a93d5ef205f3",
   "metadata": {},
   "source": [
    "d). class definition block .'class 'keyword followed by the class name ."
   ]
  },
  {
   "cell_type": "code",
   "execution_count": 19,
   "id": "30222f65-48df-4f8d-aacf-80127aabfc2f",
   "metadata": {},
   "outputs": [],
   "source": [
    "class python:\n",
    "    \n",
    "\n",
    "    def __init__(self, institute, subject):\n",
    "        \n",
    "        self.institute=institute\n",
    "        self.subject=subject\n",
    "    \n",
    "    def return_required_skill(self):\n",
    "        \n",
    "        return self.institute,self.subject"
   ]
  },
  {
   "cell_type": "code",
   "execution_count": 21,
   "id": "9bbb780c-628e-45be-93b0-610cceda3e96",
   "metadata": {},
   "outputs": [],
   "source": [
    "sudhanshu=python(\"pwskills\",\"data_science\")"
   ]
  },
  {
   "cell_type": "code",
   "execution_count": 23,
   "id": "8733e870-7f16-42f4-a8d2-6b3185622c34",
   "metadata": {},
   "outputs": [
    {
     "data": {
      "text/plain": [
       "('pwskills', 'data_science')"
      ]
     },
     "execution_count": 23,
     "metadata": {},
     "output_type": "execute_result"
    }
   ],
   "source": [
    "sudhanshu.return_required_skill()"
   ]
  },
  {
   "cell_type": "markdown",
   "id": "b1306a0f-4c3e-4a76-b492-8b897f46a2e9",
   "metadata": {},
   "source": [
    "these are the few  examples of code blocks in python."
   ]
  },
  {
   "cell_type": "code",
   "execution_count": null,
   "id": "0ea4814a-fc3d-44c5-8936-42c8f923ab77",
   "metadata": {},
   "outputs": [],
   "source": []
  },
  {
   "cell_type": "markdown",
   "id": "ca71c8ea-6479-416a-8b78-32b1d409bbdc",
   "metadata": {},
   "source": [
    "Q.7. State a character used to give single line comments in python ."
   ]
  },
  {
   "cell_type": "markdown",
   "id": "d6b1aca6-ffa2-4793-b06e-4610e0c9f47e",
   "metadata": {},
   "source": [
    "Ans. In python ,the hash(#) character is used to indicate a singlr line comment "
   ]
  },
  {
   "cell_type": "code",
   "execution_count": 24,
   "id": "8f6c05e7-df9f-4432-a732-bd7ee3be557b",
   "metadata": {},
   "outputs": [],
   "source": [
    "# this is a cmmitment to be skilled in data_science and get a job in this very field"
   ]
  },
  {
   "cell_type": "code",
   "execution_count": 25,
   "id": "1b5e9bfb-b98d-4284-8f9e-5d2e7816b826",
   "metadata": {},
   "outputs": [
    {
     "name": "stdout",
     "output_type": "stream",
     "text": [
      "data_science web_dev\n"
     ]
    }
   ],
   "source": [
    "print(\"data_science\" ,\"web_dev\")"
   ]
  },
  {
   "cell_type": "markdown",
   "id": "33ad9865-ab54-4103-87b7-6964a388086e",
   "metadata": {},
   "source": [
    "comments are used to provide additional information ,explain what the code does ,how it works or why it was written in a particular way.\n"
   ]
  },
  {
   "cell_type": "markdown",
   "id": "a0715713-b3a1-4740-85ed-c5b4ddba573e",
   "metadata": {},
   "source": [
    "Q.8.Mention functiion which can help us to find the version of python that we are curently working on? "
   ]
  },
  {
   "cell_type": "markdown",
   "id": "57b0386a-3795-4a11-a823-be0cf8caef4b",
   "metadata": {},
   "source": [
    "Ans. 'sys.version' this function returns a string containing the versiion number of python interpriter "
   ]
  },
  {
   "cell_type": "code",
   "execution_count": 26,
   "id": "a95ce041-889a-4281-bb16-1bb393f6a85a",
   "metadata": {},
   "outputs": [
    {
     "name": "stdout",
     "output_type": "stream",
     "text": [
      "python version\n"
     ]
    }
   ],
   "source": [
    "import sys\n",
    "print(\"python version\")"
   ]
  },
  {
   "cell_type": "markdown",
   "id": "2fbe7e84-316a-4c67-96b8-bbb2cf61d6c6",
   "metadata": {},
   "source": [
    "Q.9.Python supports the creation of anonymous functions at run time ,using a construct called ____"
   ]
  },
  {
   "cell_type": "markdown",
   "id": "7e631ee5-7660-4aa2-be1c-ccab968f0f67",
   "metadata": {},
   "source": [
    "Ans. Python supports the cvreation of anonymous functions at run time using a construct called \"lambda functions \n",
    "lambda functiions are small ,one line functions that can be defined without a name  .eg__"
   ]
  },
  {
   "cell_type": "code",
   "execution_count": 27,
   "id": "f45407af-4317-4a81-a00f-73f9a0d6ce28",
   "metadata": {},
   "outputs": [],
   "source": [
    "add=lambda x,y: x+y"
   ]
  },
  {
   "cell_type": "code",
   "execution_count": 28,
   "id": "e0c863dc-20dd-46e6-a231-69080e4d080a",
   "metadata": {},
   "outputs": [
    {
     "data": {
      "text/plain": [
       "30"
      ]
     },
     "execution_count": 28,
     "metadata": {},
     "output_type": "execute_result"
    }
   ],
   "source": [
    "add(10,20)"
   ]
  },
  {
   "cell_type": "markdown",
   "id": "3eb1dce1-fdfb-4eb5-a581-c9e02b8be53a",
   "metadata": {},
   "source": [
    "In this example ,we define a lambda functiion that takes two arguments X ,y amd returns their addition"
   ]
  },
  {
   "cell_type": "markdown",
   "id": "077f1ee8-959e-4b52-a852-10cf2af23bbe",
   "metadata": {},
   "source": []
  },
  {
   "cell_type": "markdown",
   "id": "349fc05c-7c13-45cd-9b14-1d911d060002",
   "metadata": {},
   "source": [
    "Q.10.what does pip stands for Pyhon ?"
   ]
  },
  {
   "cell_type": "markdown",
   "id": "27a15dc2-5a00-442e-b79a-2eddb80b9fe4",
   "metadata": {},
   "source": [
    "Ans. pip stands for \"pip install packages\" or \"pip install python\" it is a package management system for pyton that is used to install ,manage and uninstall packages and dependencies in python\n",
    "                             pip is command line tool that is used to interect with the python package index(PYPI)"
   ]
  },
  {
   "cell_type": "markdown",
   "id": "20daeaea-ebbf-4f84-9c1d-0efde0b0561d",
   "metadata": {},
   "source": []
  },
  {
   "cell_type": "markdown",
   "id": "3b4848f1-7a81-44a4-8bbc-8631093ad62e",
   "metadata": {},
   "source": [
    "Q.11. Mention a few built in functions in python ?"
   ]
  },
  {
   "cell_type": "markdown",
   "id": "282f9f52-d6f9-4826-8f2d-c3babd03b460",
   "metadata": {},
   "source": [
    "Ans.There are some built in functions in python these are "
   ]
  },
  {
   "cell_type": "markdown",
   "id": "e751e48a-8b70-4d13-a266-b7fbd180f777",
   "metadata": {},
   "source": [
    "a).print(): used to print text or variables to the cconsole.\n",
    "(b).type(): returns the data type of a variable.\n",
    "(c).len(): returns a length of an object.\n",
    "(d).input: allows user input from the console. \n",
    "(e): int: converts a value to integer.\n",
    "(f).float: converts a value to a float.\n",
    "(g).str: convertsa a value to a string.\n",
    "(h).range: creats a range of numbers for iterating over.\n",
    "(i).abs: returns the absolute value if a number.\n",
    "(j).sum: calculates the sum of a list or tuples of a number.\n",
    "                              thees ared just a few examples of built in python.\n",
    "                        "
   ]
  },
  {
   "cell_type": "markdown",
   "id": "26ea4a4c-c6ab-4091-8650-99481eccb13a",
   "metadata": {},
   "source": [
    "Q.12. what is the maximum possible length of an identifier in python ?"
   ]
  },
  {
   "cell_type": "markdown",
   "id": "01fc78a1-a1a5-4573-bcc0-d8f7846c9281",
   "metadata": {},
   "source": [
    "Ans. In python ,the maximum length of an identifier is technically unlimited .However ,it is generally recommended to key identifiers reasonabaly short and descriptive for readabilty and maintainabilty of code\n"
   ]
  },
  {
   "cell_type": "markdown",
   "id": "05314f59-297b-4756-b93e-ec00564cde0d",
   "metadata": {},
   "source": [
    "Q.13.What are the benefits of using python ?"
   ]
  },
  {
   "cell_type": "markdown",
   "id": "12dfd1e0-37ca-4fa7-af40-35bbb7598e71",
   "metadata": {},
   "source": [
    "Ans. There are Some benefits of using Python include:\n",
    "\n",
    "(a) Easy to learn and use\n",
    "(b) Large and supportive community\n",
    "(c) Multi-platform\n",
    "(d) Versatile and adaptable\n",
    "(e) High-level abstractions\n",
    "(g) Extensive libraries and frameworks\n",
    "(g) Interpreted language."
   ]
  },
  {
   "cell_type": "markdown",
   "id": "c08e4346-3484-4d5a-9db5-07d07492efba",
   "metadata": {},
   "source": [
    "Q.14. How is memory managed in Puthon ?"
   ]
  },
  {
   "cell_type": "markdown",
   "id": "f58ba03d-2a55-4501-ac25-a3748c84ff6e",
   "metadata": {},
   "source": [
    "Ans. In Python, memory management is handled automatically by the interpreter. It uses a combination of reference counting and a garbage collector to manage memory allocation and deallocation. When an object is no longer referenced by any part of the program, the garbage collector automatically frees up the memory it was using. This approach simplifies memory management for programmers, but may result in some performance overhead due to the overhead of the garbage collector."
   ]
  },
  {
   "cell_type": "markdown",
   "id": "85f6448e-e37d-4d54-9e21-2d16ea9fbfb4",
   "metadata": {},
   "source": [
    "Q.15. How to install Python on windows and set path variables.?"
   ]
  },
  {
   "cell_type": "markdown",
   "id": "76259f7c-8983-458d-b139-1e1d62d534d8",
   "metadata": {},
   "source": [
    "Ans. we can follow the steps to install Python on windiws and set path variables. Steps are given below"
   ]
  },
  {
   "cell_type": "markdown",
   "id": "45fab26e-b5d7-4197-89e5-7414ec7bfb19",
   "metadata": {},
   "source": [
    "(a).Download python: Go to the official website and download the lattest version of python for windows"
   ]
  },
  {
   "cell_type": "markdown",
   "id": "82d622e0-d26d-4d03-adb1-036dd91c01d5",
   "metadata": {},
   "source": [
    "(b).Install python: Run the downloaded Python installer ."
   ]
  },
  {
   "cell_type": "markdown",
   "id": "aea37911-76af-4f71-85ef-54c5011d5be1",
   "metadata": {},
   "source": [
    "(c).In the installation wizard ,select the 'Add Python to Path' option"
   ]
  },
  {
   "cell_type": "markdown",
   "id": "883b2cf4-385b-4919-b120-fcff695d36fe",
   "metadata": {},
   "source": [
    "(d).Choose the installation directory and click on the 'install' button."
   ]
  },
  {
   "cell_type": "markdown",
   "id": "56749203-40d1-4e1f-92ec-64b5e56537ea",
   "metadata": {},
   "source": [
    "(e).Once the installatiion is complete ,open the start menu ans search for \"Enviroments Variables\""
   ]
  },
  {
   "cell_type": "markdown",
   "id": "df3a8db0-f413-48c8-b6cd-86a7e34d6c30",
   "metadata": {},
   "source": [
    "(f).Click on \"Edit the system enviroment variable\" "
   ]
  },
  {
   "cell_type": "markdown",
   "id": "e250cfcf-c769-48e5-b165-c0ab4d919821",
   "metadata": {},
   "source": [
    "(g).In the system properties window ,click on the \"Enviroment Variable \"button."
   ]
  },
  {
   "cell_type": "markdown",
   "id": "579a6b25-725e-4361-8d4e-40a575f7868c",
   "metadata": {},
   "source": [
    "(h).Under the \"system variables \" section scroll down to find the \" path \" variable and click on the \"edit \"button."
   ]
  },
  {
   "cell_type": "markdown",
   "id": "ad0ffe82-c4a9-4a87-99b5-f65a9ea1c910",
   "metadata": {},
   "source": [
    "(i).Click on the \"new \"button and add the path to the python installation directory.This is tipically \"c\\:PythonXX\"(where \"XX\"is the version number ,e.g.,\"38\" for Python 3.8)"
   ]
  },
  {
   "cell_type": "markdown",
   "id": "95f1b26f-70cd-4e05-b7d1-73946de9c553",
   "metadata": {},
   "source": [
    "(j).Click \"OK\"to close all the windows and save the changes."
   ]
  },
  {
   "cell_type": "markdown",
   "id": "3cec7fc5-bbb3-46f8-8255-47b6f0313fcc",
   "metadata": {},
   "source": [
    "(k).To confirm that Python has been instaaled and configured correctly, open the command prompt and type \"python--version \"to see the version number .If python is installed correctly .It will display the version number"
   ]
  },
  {
   "cell_type": "markdown",
   "id": "5d1171f7-55f6-4e33-8829-61ad25cb9392",
   "metadata": {},
   "source": [
    "through these steps we can install and set the path variables correctly."
   ]
  },
  {
   "cell_type": "code",
   "execution_count": null,
   "id": "81f7e59b-36c6-4f30-b74a-281fbc0b2801",
   "metadata": {},
   "outputs": [],
   "source": []
  },
  {
   "cell_type": "markdown",
   "id": "988d3990-9492-4353-a4de-cc911301a66f",
   "metadata": {},
   "source": [
    "Q.16.Is Indentation required in Python ?"
   ]
  },
  {
   "cell_type": "markdown",
   "id": "f307c2db-312a-4198-9972-b45fc3370d37",
   "metadata": {},
   "source": [
    "Ans.Yes ,indentation is required in Python. Unlike other programming languages that use braces or curly brackets to delimit blocks of code ,Python uses indentation to define the scope and hirarchy of code blocks."
   ]
  },
  {
   "cell_type": "code",
   "execution_count": null,
   "id": "d6ead557-9de2-465f-9d38-e577ca1cbb5b",
   "metadata": {},
   "outputs": [],
   "source": []
  }
 ],
 "metadata": {
  "kernelspec": {
   "display_name": "Python 3 (ipykernel)",
   "language": "python",
   "name": "python3"
  },
  "language_info": {
   "codemirror_mode": {
    "name": "ipython",
    "version": 3
   },
   "file_extension": ".py",
   "mimetype": "text/x-python",
   "name": "python",
   "nbconvert_exporter": "python",
   "pygments_lexer": "ipython3",
   "version": "3.10.8"
  }
 },
 "nbformat": 4,
 "nbformat_minor": 5
}
